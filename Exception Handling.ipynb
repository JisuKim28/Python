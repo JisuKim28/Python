{
 "cells": [
  {
   "cell_type": "code",
   "execution_count": 1,
   "id": "f617a6a8",
   "metadata": {},
   "outputs": [
    {
     "ename": "ZeroDivisionError",
     "evalue": "division by zero",
     "output_type": "error",
     "traceback": [
      "\u001b[0;31m---------------------------------------------------------------------------\u001b[0m",
      "\u001b[0;31mZeroDivisionError\u001b[0m                         Traceback (most recent call last)",
      "\u001b[0;32m/tmp/ipykernel_35/2054517161.py\u001b[0m in \u001b[0;36m<module>\u001b[0;34m\u001b[0m\n\u001b[1;32m      1\u001b[0m \u001b[0ma\u001b[0m \u001b[0;34m=\u001b[0m \u001b[0;36m1\u001b[0m\u001b[0;34m\u001b[0m\u001b[0;34m\u001b[0m\u001b[0m\n\u001b[1;32m      2\u001b[0m \u001b[0mb\u001b[0m \u001b[0;34m=\u001b[0m \u001b[0;36m0\u001b[0m\u001b[0;34m\u001b[0m\u001b[0;34m\u001b[0m\u001b[0m\n\u001b[0;32m----> 3\u001b[0;31m \u001b[0mprint\u001b[0m\u001b[0;34m(\u001b[0m\u001b[0ma\u001b[0m\u001b[0;34m/\u001b[0m\u001b[0mb\u001b[0m\u001b[0;34m)\u001b[0m\u001b[0;34m\u001b[0m\u001b[0;34m\u001b[0m\u001b[0m\n\u001b[0m",
      "\u001b[0;31mZeroDivisionError\u001b[0m: division by zero"
     ]
    }
   ],
   "source": [
    "a = 1\n",
    "b = 0\n",
    "print(a/b)"
   ]
  },
  {
   "cell_type": "code",
   "execution_count": 3,
   "id": "877e8a1a",
   "metadata": {},
   "outputs": [
    {
     "name": "stdout",
     "output_type": "stream",
     "text": [
      "정수를 입력하세요:10\n",
      "입력한 정수는 10입니다.\n"
     ]
    }
   ],
   "source": [
    "num = int(input(\"정수를 입력하세요:\"))\n",
    "\n",
    "print(f'입력한 정수는 {num}입니다.')"
   ]
  },
  {
   "cell_type": "code",
   "execution_count": 7,
   "id": "44829a6d",
   "metadata": {},
   "outputs": [
    {
     "name": "stdout",
     "output_type": "stream",
     "text": [
      "정수를 입력하세요 : 20\n",
      "입력한 정수는 20입니다.\n"
     ]
    }
   ],
   "source": [
    "# 정수가 아닌 값을 입력해서 예외 처리를 잘 하는지 확인해 보세요.  \n",
    "num = input('정수를 입력하세요 : ')  # int() 함수 제거\n",
    "\n",
    "# 입력값이 정수일 때만\n",
    "# Q. 아래의 빈 코드를 채워보세요. \n",
    "if int(num):\n",
    "    print(f'입력한 정수는 {num}입니다.')\n",
    "\n",
    "# 입력값이 정수가 아닐 때\n",
    "else:\n",
    "    print('정수가 아닙니다.')"
   ]
  },
  {
   "cell_type": "code",
   "execution_count": 8,
   "id": "2fefb104",
   "metadata": {},
   "outputs": [
    {
     "name": "stdout",
     "output_type": "stream",
     "text": [
      "1\n",
      "3\n",
      "5\n",
      "7\n",
      "9\n"
     ]
    }
   ],
   "source": [
    "# lstrip 함수의 예시\n",
    "ex = ['-1', '-3', '-5', '-7', '-9']\n",
    "\n",
    "for i in range(len(ex)):\n",
    "    print(ex[i].lstrip(\"-\"))"
   ]
  },
  {
   "cell_type": "code",
   "execution_count": 13,
   "id": "b0521827",
   "metadata": {},
   "outputs": [
    {
     "name": "stdout",
     "output_type": "stream",
     "text": [
      "정수를 입력하세요:-10\n",
      "입력한 정수는 -10입니다.\n"
     ]
    }
   ],
   "source": [
    "# 정수가 아닌 값을 입력해서 예외 처리를 잘 하는지 확인해 보세요.  \n",
    "num = input(\"정수를 입력하세요:\")\n",
    "\n",
    "if int(num):\n",
    "    print(f\"입력한 정수는 {num}입니다.\")\n",
    "    \n",
    "elif num.lstrip('-'):\n",
    "    print(f\"입력한 정수는 {num}입니다.\")\n",
    "    \n",
    "else:\n",
    "    print(\"정수가 아닙니다.\")"
   ]
  },
  {
   "cell_type": "code",
   "execution_count": 14,
   "id": "a56d3d9d",
   "metadata": {},
   "outputs": [
    {
     "name": "stdout",
     "output_type": "stream",
     "text": [
      "정수를 입력하세요:-10\n",
      "입력한 정수는 -10입니다.\n"
     ]
    }
   ],
   "source": [
    "num = input(\"정수를 입력하세요:\")\n",
    "num_no_sign = num.lstrip('-')\n",
    "\n",
    "if int(num):\n",
    "    print(f\"입력한 정수는 {num}입니다.\")\n",
    "\n",
    "elif num_no_sign.isdigit():\n",
    "    print(f\"입력한 정수는 {num_no_sign}입니다.\")\n",
    "else:\n",
    "    print(\"정수가 아닙니다.\")"
   ]
  },
  {
   "cell_type": "code",
   "execution_count": 15,
   "id": "d19ea5f9",
   "metadata": {},
   "outputs": [
    {
     "name": "stdout",
     "output_type": "stream",
     "text": [
      "정수를 입력하세요:-20\n",
      "입력한 정수는 20입니다.\n"
     ]
    }
   ],
   "source": [
    "num = input(\"정수를 입력하세요:\")\n",
    "\n",
    "# 음수 부호 제거 (lstrip 사용)\n",
    "num_no_sign = num.lstrip('-')\n",
    "\n",
    "# 숫자인지 검사\n",
    "if num_no_sign.isdigit():\n",
    "    print(f\"입력한 정수는 {num_no_sign}입니다.\")\n",
    "else:\n",
    "    print(\"정수가 아닙니다.\")"
   ]
  },
  {
   "cell_type": "code",
   "execution_count": 16,
   "id": "e81bbdc6",
   "metadata": {},
   "outputs": [
    {
     "name": "stdout",
     "output_type": "stream",
     "text": [
      "정수를 입력하세요:-20\n",
      "입력한 정수는 -20입니다.\n"
     ]
    }
   ],
   "source": [
    "num = input(\"정수를 입력하세요:\")\n",
    "num_no_sign = num.lstrip('-')\n",
    "\n",
    "if int(num):\n",
    "    print(f\"입력한 정수는 {num}입니다.\")\n",
    "\n",
    "elif num_no_sign.isdigit():\n",
    "    print(f\"입력한 정수는 {num_no_sign}입니다.\")\n",
    "else:\n",
    "    print(\"정수가 아닙니다.\")"
   ]
  },
  {
   "cell_type": "code",
   "execution_count": 19,
   "id": "b18c26a3",
   "metadata": {},
   "outputs": [
    {
     "name": "stdout",
     "output_type": "stream",
     "text": [
      "정수를 입력하세요:-20\n",
      "입력한 정수는 20입니다.\n"
     ]
    }
   ],
   "source": [
    "num = input(\"정수를 입력하세요:\")\n",
    "\n",
    "if int(num) > 0:\n",
    "    print(f\"입력한 정수는 {num}입니다.\")\n",
    "    \n",
    "elif int(num) < 0:\n",
    "    num_no_sign = num.lstrip('-')\n",
    "    print(f\"입력한 정수는 {num_no_sign}입니다.\")\n",
    "\n",
    "else:\n",
    "    print(\"정수가 아닙니다.\")\n"
   ]
  },
  {
   "cell_type": "code",
   "execution_count": 24,
   "id": "634160dd",
   "metadata": {},
   "outputs": [
    {
     "name": "stdout",
     "output_type": "stream",
     "text": [
      "수를 입력하세요:김지수\n",
      "수가 아닙니다.\n"
     ]
    }
   ],
   "source": [
    "# try - except 구문 \n",
    "# 예외가 발생할 수 있는 코드\n",
    "try:\n",
    "    num = float(input(\"수를 입력하세요:\"))\n",
    "    print(f'입력한 수는 {num}입니다.')\n",
    "#예외가 발생했을 떼\n",
    "except:\n",
    "    print(\"수가 아닙니다.\")\n",
    "    "
   ]
  },
  {
   "cell_type": "code",
   "execution_count": 27,
   "id": "b2d2545e",
   "metadata": {},
   "outputs": [
    {
     "name": "stdout",
     "output_type": "stream",
     "text": [
      "수를 입력하세요:김지수\n"
     ]
    }
   ],
   "source": [
    "# try - except - pass 구문 \n",
    "\n",
    "try:\n",
    "    num = float(input('수를 입력하세요:'))\n",
    "    print(f'입력한 수는 {num}입니다.')\n",
    "except:\n",
    "    pass #일단 프로그램이 강제 종료되는 것을 막자. except 구문이 딱히 중요하지 않을 때"
   ]
  },
  {
   "cell_type": "code",
   "execution_count": 28,
   "id": "1aaaa5cd",
   "metadata": {},
   "outputs": [
    {
     "name": "stdout",
     "output_type": "stream",
     "text": [
      "수를 입력하세요:김지수\n",
      "수가 아닙니다.\n"
     ]
    }
   ],
   "source": [
    "# try - except - else 구문\n",
    "# 예외가 발생할 수 있는 코드\n",
    "try:\n",
    "    num = float(input('수를 입력하세요:'))\n",
    "#예외가 발생했을 때 실행할 코드\n",
    "except:\n",
    "    print(\"수가 아닙니다.\")\n",
    "#예외가 발생하지 않았을 때 실행할 코드 \n",
    "else:\n",
    "    print(f'입력한 수는 {num}입니다.')"
   ]
  },
  {
   "cell_type": "code",
   "execution_count": 29,
   "id": "f7465df2",
   "metadata": {},
   "outputs": [
    {
     "name": "stdout",
     "output_type": "stream",
     "text": [
      "수를 입력하세요 : 20\n",
      "입력한 수는 20.0입니다.\n",
      "*************************\n",
      "프로그램이 끝났습니다.\n"
     ]
    }
   ],
   "source": [
    "# try - except - else - finally 구문 \n",
    "# 시도할 코드 \n",
    "try:\n",
    "    # 예외 걱정 없이 입력값에 float 함수를 씌움\n",
    "    num = float(input('수를 입력하세요 : '))\n",
    "\n",
    "# try에서 예외가 발생했을 때 실행할 코드\n",
    "except:\n",
    "    print('수가 아닙니다.')\n",
    "\n",
    "# try에서 예외가 발생하지 않았다면 실행할 코드\n",
    "else:\n",
    "    print(f'입력한 수는 {num}입니다.')\n",
    "#finally 구문 추가\n",
    "finally:\n",
    "    print('*' * 25)\n",
    "    print('프로그램이 끝났습니다.')"
   ]
  },
  {
   "cell_type": "code",
   "execution_count": 30,
   "id": "7b4f046f",
   "metadata": {},
   "outputs": [
    {
     "ename": "Exception",
     "evalue": "에러를 일부러 발생시킴",
     "output_type": "error",
     "traceback": [
      "\u001b[0;31m---------------------------------------------------------------------------\u001b[0m",
      "\u001b[0;31mException\u001b[0m                                 Traceback (most recent call last)",
      "\u001b[0;32m/tmp/ipykernel_35/1229370781.py\u001b[0m in \u001b[0;36m<module>\u001b[0;34m\u001b[0m\n\u001b[1;32m      1\u001b[0m \u001b[0;31m# 에러를 일부러 발생시켜 봅시다.\u001b[0m\u001b[0;34m\u001b[0m\u001b[0;34m\u001b[0m\u001b[0m\n\u001b[0;32m----> 2\u001b[0;31m \u001b[0;32mraise\u001b[0m \u001b[0mException\u001b[0m\u001b[0;34m(\u001b[0m\u001b[0;34m'에러를 일부러 발생시킴'\u001b[0m\u001b[0;34m)\u001b[0m\u001b[0;34m\u001b[0m\u001b[0;34m\u001b[0m\u001b[0m\n\u001b[0m",
      "\u001b[0;31mException\u001b[0m: 에러를 일부러 발생시킴"
     ]
    }
   ],
   "source": [
    "# 에러를 일부러 발생시켜 봅시다.\n",
    "raise Exception('에러를 일부러 발생시킴')"
   ]
  },
  {
   "cell_type": "code",
   "execution_count": 31,
   "id": "cfe16d67",
   "metadata": {},
   "outputs": [
    {
     "name": "stdout",
     "output_type": "stream",
     "text": [
      "메뉴를 입력해주세요!hamburger\n",
      "갯수를 입력해주세요!10\n",
      "햄버거의 개수만 입력받습니다.\n"
     ]
    }
   ],
   "source": [
    "# 실습퀴즈1. 예외처리 try - finally \n",
    "# 햄버거의 갯수만 입력 받는 프로그램을 작성해주세요!  \n",
    "\n",
    "menu = input(\"메뉴를 입력해주세요!\")\n",
    "menu_count = int(input(\"갯수를 입력해주세요!\"))\n",
    "\n",
    "try:\n",
    "    menu != \"hamburger\"\n",
    "\n",
    "finally:\n",
    "    print('햄버거의 개수만 입력받습니다.')"
   ]
  },
  {
   "cell_type": "code",
   "execution_count": 32,
   "id": "a73fcb6c",
   "metadata": {},
   "outputs": [
    {
     "name": "stdout",
     "output_type": "stream",
     "text": [
      "수를 입력해주세요:20\n",
      "입력한 값은 20입니다.\n",
      "*************************\n",
      "프로그램이 끝났습니다.\n"
     ]
    }
   ],
   "source": [
    "# 실습퀴즈2. 예외처리 try - except - else - finally\n",
    "\n",
    "try: \n",
    "    num = str(input(f\"수를 입력해주세요:\"))\n",
    "except:\n",
    "    print(\"수가 아닙니다.\")\n",
    "else:\n",
    "    print(f'입력한 값은 {num}입니다.')\n",
    "finally:\n",
    "    print(\"*\" * 25)\n",
    "    print('프로그램이 끝났습니다.')"
   ]
  }
 ],
 "metadata": {
  "kernelspec": {
   "display_name": "Python 3 (ipykernel)",
   "language": "python",
   "name": "python3"
  },
  "language_info": {
   "codemirror_mode": {
    "name": "ipython",
    "version": 3
   },
   "file_extension": ".py",
   "mimetype": "text/x-python",
   "name": "python",
   "nbconvert_exporter": "python",
   "pygments_lexer": "ipython3",
   "version": "3.9.7"
  }
 },
 "nbformat": 4,
 "nbformat_minor": 5
}

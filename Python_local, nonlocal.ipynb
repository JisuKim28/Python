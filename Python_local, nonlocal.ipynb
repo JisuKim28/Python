{
 "cells": [
  {
   "cell_type": "code",
   "execution_count": 1,
   "id": "70884ec3",
   "metadata": {},
   "outputs": [
    {
     "name": "stdout",
     "output_type": "stream",
     "text": [
      "hi aiffel!\n"
     ]
    }
   ],
   "source": [
    "# 함수 밖의 변수\n",
    "name = 'aiffel'\n",
    "\n",
    "def hi():\n",
    "    print(f'hi {name}!') # 함수 밖의 변수 name이 함수 안에 있음 \n",
    "hi()"
   ]
  },
  {
   "cell_type": "code",
   "execution_count": 2,
   "id": "4d775ed1",
   "metadata": {},
   "outputs": [
    {
     "name": "stdout",
     "output_type": "stream",
     "text": [
      "hi2 aiffel!\n"
     ]
    }
   ],
   "source": [
    "# 함수 안의 변수\n",
    "def hi2():\n",
    "    name2 = 'aiffel'\n",
    "    print(f'hi2 {name2}!')\n",
    "hi2()"
   ]
  },
  {
   "cell_type": "code",
   "execution_count": 3,
   "id": "9b0c726d",
   "metadata": {},
   "outputs": [
    {
     "ename": "NameError",
     "evalue": "name 'name2' is not defined",
     "output_type": "error",
     "traceback": [
      "\u001b[0;31m---------------------------------------------------------------------------\u001b[0m",
      "\u001b[0;31mNameError\u001b[0m                                 Traceback (most recent call last)",
      "\u001b[0;32m/tmp/ipykernel_53/2856322054.py\u001b[0m in \u001b[0;36m<module>\u001b[0;34m\u001b[0m\n\u001b[1;32m      1\u001b[0m \u001b[0;31m# name2 변수를 함수 밖에서 썼을 때\u001b[0m\u001b[0;34m\u001b[0m\u001b[0;34m\u001b[0m\u001b[0m\n\u001b[0;32m----> 2\u001b[0;31m \u001b[0mprint\u001b[0m\u001b[0;34m(\u001b[0m\u001b[0mname2\u001b[0m\u001b[0;34m)\u001b[0m\u001b[0;34m\u001b[0m\u001b[0;34m\u001b[0m\u001b[0m\n\u001b[0m",
      "\u001b[0;31mNameError\u001b[0m: name 'name2' is not defined"
     ]
    }
   ],
   "source": [
    "# name2 변수를 함수 밖에서 썼을 때\n",
    "print(name2)"
   ]
  },
  {
   "cell_type": "code",
   "execution_count": 4,
   "id": "5e0deba5",
   "metadata": {},
   "outputs": [
    {
     "name": "stdout",
     "output_type": "stream",
     "text": [
      "hi python!\n"
     ]
    }
   ],
   "source": [
    "name = 'aiffel' # 전역 변수\n",
    "\n",
    "def hi3():\n",
    "    name = 'python'\n",
    "    print (f'hi {name}!')\n",
    "hi3()"
   ]
  },
  {
   "cell_type": "code",
   "execution_count": 5,
   "id": "c7361904",
   "metadata": {},
   "outputs": [
    {
     "name": "stdout",
     "output_type": "stream",
     "text": [
      "aiffel\n"
     ]
    }
   ],
   "source": [
    "print(name)"
   ]
  },
  {
   "cell_type": "code",
   "execution_count": 7,
   "id": "722bbb1a",
   "metadata": {},
   "outputs": [
    {
     "name": "stdout",
     "output_type": "stream",
     "text": [
      "hi python!\n",
      "aiffel\n"
     ]
    }
   ],
   "source": [
    "name = 'aiffel'\n",
    "\n",
    "def hi3():\n",
    "    name = 'python'\n",
    "    print(f'hi {name}!')\n",
    "\n",
    "hi3()\n",
    "print(name)"
   ]
  },
  {
   "cell_type": "code",
   "execution_count": 10,
   "id": "b2be5bc1",
   "metadata": {},
   "outputs": [
    {
     "name": "stdout",
     "output_type": "stream",
     "text": [
      "hi pyton!\n",
      "pyton\n"
     ]
    }
   ],
   "source": [
    "# global 예약어를 사용하면 전역 변수 변경 가능\n",
    "\n",
    "name = 'aiffel' # 전역 변수\n",
    "\n",
    "def hi4():\n",
    "    global name\n",
    "    name = 'pyton'\n",
    "    print(f'hi {name}!')\n",
    "\n",
    "hi4()\n",
    "print(name)"
   ]
  },
  {
   "cell_type": "code",
   "execution_count": 11,
   "id": "8ecdcac2",
   "metadata": {},
   "outputs": [
    {
     "name": "stdout",
     "output_type": "stream",
     "text": [
      "hey 지수!\n",
      "지수\n"
     ]
    }
   ],
   "source": [
    "# 함수 안에서 전역 변수 만들기\n",
    "\n",
    "def hey():\n",
    "    global a #a를 전역 변수로 쓰겠다\n",
    "    a = '지수'\n",
    "    print (f'hey {a}!')\n",
    "\n",
    "hey()\n",
    "print(a)"
   ]
  },
  {
   "cell_type": "code",
   "execution_count": 13,
   "id": "91266708",
   "metadata": {},
   "outputs": [
    {
     "name": "stdout",
     "output_type": "stream",
     "text": [
      "hey 지수!\n",
      "지수\n"
     ]
    }
   ],
   "source": [
    "def hey():\n",
    "    global a\n",
    "    a = '지수'\n",
    "    print(f'hey {a}!')\n",
    "    \n",
    "hey()\n",
    "print(a)"
   ]
  },
  {
   "cell_type": "code",
   "execution_count": 18,
   "id": "6301ef6b",
   "metadata": {},
   "outputs": [
    {
     "name": "stdout",
     "output_type": "stream",
     "text": [
      "hello2 아이펠\n"
     ]
    }
   ],
   "source": [
    "def hello():\n",
    "    who = '지수' #지역 변수 생성\n",
    "    def hello2():\n",
    "        nonlocal who #지역 변수 who를 여기서도 씀\n",
    "        who = '아이펠'\n",
    "    \n",
    "    hello2()\n",
    "    print(f'hello2 {who}')\n",
    "\n",
    "hello()"
   ]
  },
  {
   "cell_type": "code",
   "execution_count": 28,
   "id": "9975a0d1",
   "metadata": {},
   "outputs": [
    {
     "name": "stdout",
     "output_type": "stream",
     "text": [
      "hello아이펠!\n"
     ]
    }
   ],
   "source": [
    "def hello():\n",
    "    who = '지수' #지역 변수 생성\n",
    "    def hello2():\n",
    "        nonlocal who #지역 변수 who를 여기서도 씀\n",
    "        who = '아이펠'\n",
    "    \n",
    "    hello2()\n",
    "    print(f'hello{who}!')\n",
    "hello()"
   ]
  },
  {
   "cell_type": "code",
   "execution_count": 29,
   "id": "31941bd0",
   "metadata": {},
   "outputs": [],
   "source": [
    "# 클로저 함수의 예시\n",
    "def intro(home):\n",
    "    introduction = 'My hometown is '+home+'.'\n",
    "\n",
    "    def my():  # 조건 1 충족\n",
    "        print(introduction)  # 조건 2 충족\n",
    "    \n",
    "    return my  # 조건 3 충족"
   ]
  },
  {
   "cell_type": "code",
   "execution_count": 30,
   "id": "28920112",
   "metadata": {},
   "outputs": [
    {
     "name": "stdout",
     "output_type": "stream",
     "text": [
      "hello 인유!\n"
     ]
    }
   ],
   "source": [
    "# 실습퀴즈1. nonlocal 키워드\n",
    "# 아래 코드의 실행 결과가 'hello 인유!'가 나오도록 코드를 추가해 주세요.  \n",
    "def hello(): \n",
    "    who = '아이펠'\n",
    "    def hello2():\n",
    "        nonlocal who\n",
    "        who = '인유'\n",
    "\n",
    "    hello2()\n",
    "    print(f'hello {who}!')\n",
    "\n",
    "hello()"
   ]
  },
  {
   "cell_type": "code",
   "execution_count": null,
   "id": "9e3ff5bc",
   "metadata": {},
   "outputs": [],
   "source": []
  }
 ],
 "metadata": {
  "kernelspec": {
   "display_name": "Python 3 (ipykernel)",
   "language": "python",
   "name": "python3"
  },
  "language_info": {
   "codemirror_mode": {
    "name": "ipython",
    "version": 3
   },
   "file_extension": ".py",
   "mimetype": "text/x-python",
   "name": "python",
   "nbconvert_exporter": "python",
   "pygments_lexer": "ipython3",
   "version": "3.9.7"
  }
 },
 "nbformat": 4,
 "nbformat_minor": 5
}

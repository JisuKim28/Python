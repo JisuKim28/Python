{
 "cells": [
  {
   "cell_type": "code",
   "execution_count": 1,
   "id": "24b2b236",
   "metadata": {},
   "outputs": [],
   "source": [
    "# 첫 클래스 만들기\n",
    "class Aiffel:\n",
    "    def cheer(self):\n",
    "        print(\"끝까지 화이팅!\")"
   ]
  },
  {
   "cell_type": "code",
   "execution_count": 2,
   "id": "b0bf6f2c",
   "metadata": {},
   "outputs": [
    {
     "data": {
      "text/plain": [
       "__main__.Aiffel"
      ]
     },
     "execution_count": 2,
     "metadata": {},
     "output_type": "execute_result"
    }
   ],
   "source": [
    "#응원 나와라!\n",
    "Aiffel"
   ]
  },
  {
   "cell_type": "code",
   "execution_count": 3,
   "id": "89c2f629",
   "metadata": {},
   "outputs": [
    {
     "name": "stdout",
     "output_type": "stream",
     "text": [
      "끝까지 화이팅!\n"
     ]
    }
   ],
   "source": [
    "python = Aiffel()\n",
    "python.cheer()"
   ]
  },
  {
   "cell_type": "code",
   "execution_count": 6,
   "id": "5e2ac786",
   "metadata": {},
   "outputs": [
    {
     "name": "stdout",
     "output_type": "stream",
     "text": [
      "끝까지 화이팅!\n"
     ]
    }
   ],
   "source": [
    "class Aiffel:\n",
    "    def cheer(self):\n",
    "        print(\"끝까지 화이팅!\")\n",
    "python = Aiffel()\n",
    "python.cheer()"
   ]
  },
  {
   "cell_type": "code",
   "execution_count": 8,
   "id": "c1cdf8f5",
   "metadata": {},
   "outputs": [
    {
     "name": "stdout",
     "output_type": "stream",
     "text": [
      "김지수, 끝까지 화이팅!\n"
     ]
    }
   ],
   "source": [
    "class Aiffel:\n",
    "    def __init__(self,name): #생성자 안에 속성\n",
    "        self.name = name\n",
    "    def cheer(self):\n",
    "        print(f\"{self.name}, 끝까지 화이팅!\")\n",
    "        \n",
    "python = Aiffel('김지수')\n",
    "python.cheer()"
   ]
  },
  {
   "cell_type": "code",
   "execution_count": 9,
   "id": "9141b2c7",
   "metadata": {},
   "outputs": [
    {
     "name": "stdout",
     "output_type": "stream",
     "text": [
      "학생이름: 지수\n"
     ]
    }
   ],
   "source": [
    "class Student:\n",
    "    def __init__(self, name):\n",
    "        self.name = name\n",
    "        \n",
    "    def __str__(self):\n",
    "        return f\"학생이름: {self.name}\"\n",
    "\n",
    "s = Student(\"지수\")\n",
    "print(s)"
   ]
  },
  {
   "cell_type": "code",
   "execution_count": 16,
   "id": "b1572cb8",
   "metadata": {},
   "outputs": [
    {
     "name": "stdout",
     "output_type": "stream",
     "text": [
      "Shoes(sneakers, 270, black)를 생성했습니다.\n",
      "Shoes(sneakers, 270, black)를 생성했습니다.\n"
     ]
    }
   ],
   "source": [
    "class Shoes:\n",
    "    brand = 'python'\n",
    "    #지금까지 총 몇 개의 신발이 만들어졌는지 세어주기 위함 \n",
    "    production_count = 0\n",
    "    \n",
    "    def __init__(self, model, size, color):\n",
    "        self.model = model\n",
    "        self.size = size\n",
    "        self.color = color\n",
    "        Shoes.production_count += 1\n",
    "        print(f\"Shoes({self.model}, {self.size}, {self.color})를 생성했습니다.\")\n",
    "        \n",
    "    def __str__(self):\n",
    "        return (f\"Shoes({self.model}, {self.size}, {self.color})를 생성했습니다.\")\n",
    "    \n",
    "    def color_change(self, new_color):\n",
    "        self.new_color = new_color\n",
    "        \n",
    "sneakers = Shoes(model = \"sneakers\", size = \"270\", color = \"black\")\n",
    "slippers = Shoes(model = \"sneakers\", size = \"270\", color = \"black\")\n"
   ]
  },
  {
   "cell_type": "code",
   "execution_count": 17,
   "id": "ead9f600",
   "metadata": {},
   "outputs": [
    {
     "name": "stdout",
     "output_type": "stream",
     "text": [
      "Shoes(sneakers, 270, black)를 생성했습니다.\n",
      "Shoes(sneakers, 270, black)를 생성했습니다.\n"
     ]
    }
   ],
   "source": [
    "print(sneakers)\n",
    "print(slippers)"
   ]
  },
  {
   "cell_type": "code",
   "execution_count": 18,
   "id": "f98b0903",
   "metadata": {},
   "outputs": [],
   "source": [
    "sneakers.color_change('red')\n",
    "slippers.color_change('black')"
   ]
  },
  {
   "cell_type": "code",
   "execution_count": 20,
   "id": "1032ba8a",
   "metadata": {},
   "outputs": [],
   "source": [
    "Shoes.brand = \"Aiffel\""
   ]
  },
  {
   "cell_type": "code",
   "execution_count": 21,
   "id": "eb17a1b6",
   "metadata": {},
   "outputs": [
    {
     "name": "stdout",
     "output_type": "stream",
     "text": [
      "Aiffel\n",
      "Aiffel\n"
     ]
    }
   ],
   "source": [
    "print(sneakers.brand)\n",
    "print(slippers.brand)"
   ]
  },
  {
   "cell_type": "code",
   "execution_count": 22,
   "id": "07cd8fd8",
   "metadata": {},
   "outputs": [
    {
     "name": "stdout",
     "output_type": "stream",
     "text": [
      "2\n"
     ]
    }
   ],
   "source": [
    "print(Shoes.production_count)"
   ]
  },
  {
   "cell_type": "code",
   "execution_count": 23,
   "id": "a7236467",
   "metadata": {},
   "outputs": [],
   "source": [
    "class Customer:\n",
    "    def __init__(self, name, age, purchases):\n",
    "        self.name = name\n",
    "        self.age = age\n",
    "        self.purchases = purchases\n",
    "    def get_average_purchase(self):\n",
    "        return sum(self.purchase)/len(self.purchases)\n",
    "customer1 = Customer(\"김철수\", 25, [1000, 2000, 1500])\n",
    "customer2 = Customer(\"이영희\", 30, [3000, 2500, 4000])"
   ]
  },
  {
   "cell_type": "code",
   "execution_count": null,
   "id": "f5cd0452",
   "metadata": {},
   "outputs": [],
   "source": []
  }
 ],
 "metadata": {
  "kernelspec": {
   "display_name": "Python 3 (ipykernel)",
   "language": "python",
   "name": "python3"
  },
  "language_info": {
   "codemirror_mode": {
    "name": "ipython",
    "version": 3
   },
   "file_extension": ".py",
   "mimetype": "text/x-python",
   "name": "python",
   "nbconvert_exporter": "python",
   "pygments_lexer": "ipython3",
   "version": "3.9.7"
  }
 },
 "nbformat": 4,
 "nbformat_minor": 5
}

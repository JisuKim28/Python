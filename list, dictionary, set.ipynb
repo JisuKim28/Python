{
 "cells": [
  {
   "cell_type": "code",
   "execution_count": 1,
   "id": "73d76736",
   "metadata": {},
   "outputs": [
    {
     "data": {
      "text/plain": [
       "['a', 'i', 'f', 'f', 'e', 'l']"
      ]
     },
     "execution_count": 1,
     "metadata": {},
     "output_type": "execute_result"
    }
   ],
   "source": [
    "# 1차원 리스트\n",
    "list_o = ['a', 'i', 'f', 'f', 'e', 'l']\n",
    "list_o"
   ]
  },
  {
   "cell_type": "code",
   "execution_count": 2,
   "id": "f9e12d4a",
   "metadata": {},
   "outputs": [
    {
     "data": {
      "text/plain": [
       "[[1, 2], ['ㄱ', 'ㄴ'], ['a', 'b']]"
      ]
     },
     "execution_count": 2,
     "metadata": {},
     "output_type": "execute_result"
    }
   ],
   "source": [
    "# 2차원 리스트\n",
    "list_tw = [[1, 2], ['ㄱ', 'ㄴ'], ['a', 'b']]\n",
    "list_tw"
   ]
  },
  {
   "cell_type": "code",
   "execution_count": 3,
   "id": "b667934d",
   "metadata": {},
   "outputs": [
    {
     "data": {
      "text/plain": [
       "'a'"
      ]
     },
     "execution_count": 3,
     "metadata": {},
     "output_type": "execute_result"
    }
   ],
   "source": [
    "#3행 1열 \n",
    "list_tw[2][0]"
   ]
  },
  {
   "cell_type": "code",
   "execution_count": 4,
   "id": "6ae6bfed",
   "metadata": {},
   "outputs": [
    {
     "data": {
      "text/plain": [
       "['a', 'b']"
      ]
     },
     "execution_count": 4,
     "metadata": {},
     "output_type": "execute_result"
    }
   ],
   "source": [
    "#인덱싱 한개만 써보기\n",
    "list_tw[2]"
   ]
  },
  {
   "cell_type": "code",
   "execution_count": 5,
   "id": "c28f9811",
   "metadata": {},
   "outputs": [
    {
     "data": {
      "text/plain": [
       "[[[1, 2, 3], [4, 5, 6], [7, 8, 9], [10, 11, 12]],\n",
       " [['a', 'b', 'c'], ['d', 'e', 'f'], ['g', 'h', 'i'], ['j', 'k', 'l']]]"
      ]
     },
     "execution_count": 5,
     "metadata": {},
     "output_type": "execute_result"
    }
   ],
   "source": [
    "#3차원 리스트\n",
    "# 4행, 3열, depth 2인 3차원 리스트\n",
    "list_th = [[[1, 2, 3], [4, 5, 6], [7, 8, 9], [10, 11, 12]],\\\n",
    "           [['a', 'b', 'c'], ['d', 'e', 'f'], ['g', 'h', 'i'], ['j', 'k', 'l']]]\n",
    "list_th"
   ]
  },
  {
   "cell_type": "code",
   "execution_count": 6,
   "id": "dbfe4b35",
   "metadata": {},
   "outputs": [
    {
     "data": {
      "text/plain": [
       "2"
      ]
     },
     "execution_count": 6,
     "metadata": {},
     "output_type": "execute_result"
    }
   ],
   "source": [
    "# 3차원 리스트의 길이\n",
    "len(list_th)"
   ]
  },
  {
   "cell_type": "code",
   "execution_count": 7,
   "id": "eb75e46e",
   "metadata": {},
   "outputs": [
    {
     "data": {
      "text/plain": [
       "[1, 2, 3]"
      ]
     },
     "execution_count": 7,
     "metadata": {},
     "output_type": "execute_result"
    }
   ],
   "source": [
    "# 열 생략 ver.\n",
    "list_th[0][0]"
   ]
  },
  {
   "cell_type": "code",
   "execution_count": 8,
   "id": "42fca996",
   "metadata": {},
   "outputs": [
    {
     "data": {
      "text/plain": [
       "[1, 2, 3]"
      ]
     },
     "execution_count": 8,
     "metadata": {},
     "output_type": "execute_result"
    }
   ],
   "source": [
    "# 열 기재 ver.\n",
    "# depth 1, 1행, 열 전체\n",
    "list_th[0][0][:]"
   ]
  },
  {
   "cell_type": "code",
   "execution_count": 9,
   "id": "2d91b8d3",
   "metadata": {},
   "outputs": [
    {
     "data": {
      "text/plain": [
       "'c'"
      ]
     },
     "execution_count": 9,
     "metadata": {},
     "output_type": "execute_result"
    }
   ],
   "source": [
    "# depth 2, 1행, 3열\n",
    "list_th[1][0][2]"
   ]
  },
  {
   "cell_type": "code",
   "execution_count": 10,
   "id": "a4d7eccb",
   "metadata": {},
   "outputs": [
    {
     "data": {
      "text/plain": [
       "['d', 'e', 'f']"
      ]
     },
     "execution_count": 10,
     "metadata": {},
     "output_type": "execute_result"
    }
   ],
   "source": [
    "# Q. ['d', 'e', 'f']를 선택하려면 인덱싱을 어떻게 해야 할까요?\n",
    "list_th[1][1][:]"
   ]
  },
  {
   "cell_type": "code",
   "execution_count": 11,
   "id": "9661f89f",
   "metadata": {},
   "outputs": [
    {
     "data": {
      "text/plain": [
       "['d', 'e', 'f']"
      ]
     },
     "execution_count": 11,
     "metadata": {},
     "output_type": "execute_result"
    }
   ],
   "source": [
    "list_th[1][1]"
   ]
  },
  {
   "cell_type": "code",
   "execution_count": 12,
   "id": "74b7ace1",
   "metadata": {},
   "outputs": [
    {
     "data": {
      "text/plain": [
       "3"
      ]
     },
     "execution_count": 12,
     "metadata": {},
     "output_type": "execute_result"
    }
   ],
   "source": [
    "list2 = ['a', 'b', 'c']\n",
    "len(list2)  # 3 출력"
   ]
  },
  {
   "cell_type": "code",
   "execution_count": 13,
   "id": "51387516",
   "metadata": {},
   "outputs": [
    {
     "data": {
      "text/plain": [
       "[60, 28, 30, 34, 66, 11]"
      ]
     },
     "execution_count": 13,
     "metadata": {},
     "output_type": "execute_result"
    }
   ],
   "source": [
    "kims_age = [60, 28, 30, 34, 66, 11]  \n",
    "kims_age"
   ]
  },
  {
   "cell_type": "code",
   "execution_count": 15,
   "id": "439ea1e7",
   "metadata": {},
   "outputs": [
    {
     "data": {
      "text/plain": [
       "66"
      ]
     },
     "execution_count": 15,
     "metadata": {},
     "output_type": "execute_result"
    }
   ],
   "source": [
    "max(kims_age)"
   ]
  },
  {
   "cell_type": "code",
   "execution_count": 16,
   "id": "4a22366d",
   "metadata": {},
   "outputs": [
    {
     "data": {
      "text/plain": [
       "11"
      ]
     },
     "execution_count": 16,
     "metadata": {},
     "output_type": "execute_result"
    }
   ],
   "source": [
    "min(kims_age)"
   ]
  },
  {
   "cell_type": "code",
   "execution_count": 17,
   "id": "3252c095",
   "metadata": {},
   "outputs": [
    {
     "ename": "TypeError",
     "evalue": "'<' not supported between instances of 'int' and 'str'",
     "output_type": "error",
     "traceback": [
      "\u001b[0;31m---------------------------------------------------------------------------\u001b[0m",
      "\u001b[0;31mTypeError\u001b[0m                                 Traceback (most recent call last)",
      "\u001b[0;32m/tmp/ipykernel_38/4074197551.py\u001b[0m in \u001b[0;36m<module>\u001b[0;34m\u001b[0m\n\u001b[1;32m      1\u001b[0m \u001b[0;31m# 리스트 안에 숫자와 자료형이 함께 있을 때\u001b[0m\u001b[0;34m\u001b[0m\u001b[0;34m\u001b[0m\u001b[0m\n\u001b[1;32m      2\u001b[0m \u001b[0mnapoli\u001b[0m \u001b[0;34m=\u001b[0m \u001b[0;34m[\u001b[0m\u001b[0;34m'minjae'\u001b[0m\u001b[0;34m,\u001b[0m \u001b[0;36m3\u001b[0m\u001b[0;34m,\u001b[0m \u001b[0;34m'크바라츠헬리아'\u001b[0m\u001b[0;34m,\u001b[0m \u001b[0;36m77\u001b[0m\u001b[0;34m,\u001b[0m \u001b[0;34m'Osimhen'\u001b[0m\u001b[0;34m,\u001b[0m \u001b[0;36m9\u001b[0m\u001b[0;34m,\u001b[0m \u001b[0;34m'Anguissa'\u001b[0m\u001b[0;34m,\u001b[0m \u001b[0;36m99\u001b[0m\u001b[0;34m]\u001b[0m\u001b[0;34m\u001b[0m\u001b[0;34m\u001b[0m\u001b[0m\n\u001b[0;32m----> 3\u001b[0;31m \u001b[0mmin\u001b[0m\u001b[0;34m(\u001b[0m\u001b[0mnapoli\u001b[0m\u001b[0;34m)\u001b[0m\u001b[0;34m\u001b[0m\u001b[0;34m\u001b[0m\u001b[0m\n\u001b[0m",
      "\u001b[0;31mTypeError\u001b[0m: '<' not supported between instances of 'int' and 'str'"
     ]
    }
   ],
   "source": [
    "# 리스트 안에 숫자와 자료형이 함께 있을 때 -> 오류\n",
    "napoli = ['minjae', 3, '크바라츠헬리아', 77, 'Osimhen', 9, 'Anguissa', 99]\n",
    "min(napoli)"
   ]
  },
  {
   "cell_type": "code",
   "execution_count": 18,
   "id": "e10b5954",
   "metadata": {},
   "outputs": [
    {
     "data": {
      "text/plain": [
       "'Anguissa'"
      ]
     },
     "execution_count": 18,
     "metadata": {},
     "output_type": "execute_result"
    }
   ],
   "source": [
    "# 리스트 안에 문자열만 있을 때\n",
    "napoli_player = ['minjae', '크바라츠헬리아', 'Osimhen', 'Anguissa']  # 문자열만 있는 리스\n",
    "min (napoli_player)"
   ]
  },
  {
   "cell_type": "code",
   "execution_count": 19,
   "id": "3f955022",
   "metadata": {},
   "outputs": [
    {
     "data": {
      "text/plain": [
       "229"
      ]
     },
     "execution_count": 19,
     "metadata": {},
     "output_type": "execute_result"
    }
   ],
   "source": [
    "#sum\n",
    "kims_age = [60, 28, 30, 34, 66, 11]\n",
    "sum(kims_age)"
   ]
  },
  {
   "cell_type": "code",
   "execution_count": 20,
   "id": "565cb014",
   "metadata": {},
   "outputs": [
    {
     "name": "stdout",
     "output_type": "stream",
     "text": [
      "229\n"
     ]
    }
   ],
   "source": [
    "#반복문으로 리스트의 모든 값 더하기\n",
    "total_sum = 0\n",
    "for i in kims_age:\n",
    "    total_sum += i\n",
    "print(total_sum)"
   ]
  },
  {
   "cell_type": "code",
   "execution_count": 21,
   "id": "7039b141",
   "metadata": {},
   "outputs": [
    {
     "name": "stdout",
     "output_type": "stream",
     "text": [
      "(0, 60)\n",
      "(1, 28)\n",
      "(2, 30)\n",
      "(3, 34)\n",
      "(4, 66)\n",
      "(5, 11)\n"
     ]
    }
   ],
   "source": [
    "# enumerate()\n",
    "for i in enumerate(kims_age):\n",
    "    print(i)"
   ]
  },
  {
   "cell_type": "code",
   "execution_count": 22,
   "id": "b819f71d",
   "metadata": {},
   "outputs": [
    {
     "data": {
      "text/plain": [
       "<enumerate at 0x7c3a50463a00>"
      ]
     },
     "execution_count": 22,
     "metadata": {},
     "output_type": "execute_result"
    }
   ],
   "source": [
    "# Q. napoli_player에 enumerate() 함수를 써보세요. \n",
    "napoli_player = ['minjae', '크바라츠헬리아', 'Osimhen', 'Anguissa']\n",
    "enumerate(napoli_player)"
   ]
  },
  {
   "cell_type": "code",
   "execution_count": 24,
   "id": "0cdd28fe",
   "metadata": {},
   "outputs": [
    {
     "data": {
      "text/plain": [
       "zip"
      ]
     },
     "execution_count": 24,
     "metadata": {},
     "output_type": "execute_result"
    }
   ],
   "source": [
    "# zip만 출력해보기\n",
    "napoli_num = [3, 77, 9, 99]\n",
    "napoli_player = ['minjae', '크바라츠헬리아', 'Osimhen', 'Anguissa'] \n",
    "zip"
   ]
  },
  {
   "cell_type": "code",
   "execution_count": 25,
   "id": "c5a63543",
   "metadata": {},
   "outputs": [
    {
     "name": "stdout",
     "output_type": "stream",
     "text": [
      "(3, 'minjae')\n",
      "(77, '크바라츠헬리아')\n",
      "(9, 'Osimhen')\n",
      "(99, 'Anguissa')\n"
     ]
    }
   ],
   "source": [
    "#for문에 zip을 넣고 출려개보기\n",
    "napoli_num = [3, 77, 9, 99]\n",
    "napoli_player = ['minjae', '크바라츠헬리아', 'Osimhen', 'Anguissa'] \n",
    "\n",
    "for i in zip(napoli_num, napoli_player):\n",
    "    print(i)"
   ]
  },
  {
   "cell_type": "code",
   "execution_count": 27,
   "id": "59bc5312",
   "metadata": {},
   "outputs": [
    {
     "name": "stdout",
     "output_type": "stream",
     "text": [
      "('딸기', 'red')\n",
      "('사과', 'pink')\n",
      "('망고', 'yellow')\n"
     ]
    }
   ],
   "source": [
    "# [Playground] zip()을 조금 더 연습해 보세요. \n",
    "fruits=['딸기', '사과', '망고']\n",
    "colors=['red', 'pink','yellow']\n",
    "\n",
    "for i in zip(fruits, colors):\n",
    "    print (i)"
   ]
  },
  {
   "cell_type": "code",
   "execution_count": 28,
   "id": "18c9de03",
   "metadata": {},
   "outputs": [
    {
     "name": "stdout",
     "output_type": "stream",
     "text": [
      "[('딸기', 'red'), ('사과', 'pink'), ('망고', 'yellow')]\n"
     ]
    }
   ],
   "source": [
    "check_zip = list(zip(fruits, colors))\n",
    "print(check_zip)"
   ]
  },
  {
   "cell_type": "code",
   "execution_count": 29,
   "id": "8cedda48",
   "metadata": {},
   "outputs": [
    {
     "name": "stdout",
     "output_type": "stream",
     "text": [
      "('딸기', '사과', '망고')\n",
      "('red', 'pink', 'yellow')\n"
     ]
    }
   ],
   "source": [
    "#unzip 활용해서 해제\n",
    "fruits, colors = zip(*check_zip)\n",
    "print(fruits)\n",
    "print(colors)"
   ]
  },
  {
   "cell_type": "code",
   "execution_count": 30,
   "id": "14a4fa62",
   "metadata": {},
   "outputs": [
    {
     "name": "stdout",
     "output_type": "stream",
     "text": [
      "{'name': '지수', 'city': 'Seoul'}\n"
     ]
    }
   ],
   "source": [
    "#특정 키 삭제 pop\n",
    "person ={\"name\": \"지수\", \"age\": 25, \"city\": \"Seoul\"}\n",
    "age = person.pop(\"age\")\n",
    "print (person)"
   ]
  },
  {
   "cell_type": "code",
   "execution_count": 31,
   "id": "de51cf50",
   "metadata": {},
   "outputs": [
    {
     "name": "stdout",
     "output_type": "stream",
     "text": [
      "{'name': '지수', 'age': 25}\n"
     ]
    }
   ],
   "source": [
    "#마지막 키 삭제 popitem\n",
    "person = {\"name\": \"지수\", \"age\": 25, \"city\": \"Seoul\"}\n",
    "last_item = person.popitem()\n",
    "print(person)"
   ]
  },
  {
   "cell_type": "code",
   "execution_count": 32,
   "id": "c35ddb1b",
   "metadata": {},
   "outputs": [
    {
     "name": "stdout",
     "output_type": "stream",
     "text": [
      "97\n",
      "98\n",
      "99\n",
      "100\n"
     ]
    }
   ],
   "source": [
    "# 반복문으로 아스키 코드 확인\n",
    "for i in ['a', 'b', 'c', 'd']:\n",
    "    print(ord(i))"
   ]
  },
  {
   "cell_type": "code",
   "execution_count": 33,
   "id": "a7351303",
   "metadata": {},
   "outputs": [
    {
     "data": {
      "text/plain": [
       "{'a': 97, 'b': 98, 'c': 99, 'd': 100}"
      ]
     },
     "execution_count": 33,
     "metadata": {},
     "output_type": "execute_result"
    }
   ],
   "source": [
    "# Q. 위에서 살펴본 알파벳과 아스키 코드로 딕셔너리를 만들어 보세요. 딕셔너리의 형태는 {Key1:Value1, Key2:Value2, Key3:Value3, ...}인 것은 아시죠? \n",
    "dict_uni = {'a':97,'b':98,'c':99,'d':100}\n",
    "dict_uni"
   ]
  },
  {
   "cell_type": "code",
   "execution_count": 34,
   "id": "d2a87b4f",
   "metadata": {},
   "outputs": [
    {
     "data": {
      "text/plain": [
       "{'a': 97, 'b': 98, 'c': 99, 'd': 100, 'e': None}"
      ]
     },
     "execution_count": 34,
     "metadata": {},
     "output_type": "execute_result"
    }
   ],
   "source": [
    "#새로운 key 넣기\n",
    "dict_uni.setdefault('e')\n",
    "dict_uni"
   ]
  },
  {
   "cell_type": "code",
   "execution_count": 35,
   "id": "05e7c226",
   "metadata": {},
   "outputs": [
    {
     "data": {
      "text/plain": [
       "{'a': 97, 'b': 98, 'c': 99, 'd': 100}"
      ]
     },
     "execution_count": 35,
     "metadata": {},
     "output_type": "execute_result"
    }
   ],
   "source": [
    "# 'e'값을 삭제하고 다시 넣어보겠습니다.\n",
    "del dict_uni['e']\n",
    "dict_uni"
   ]
  },
  {
   "cell_type": "code",
   "execution_count": 36,
   "id": "9a2c9618",
   "metadata": {},
   "outputs": [
    {
     "data": {
      "text/plain": [
       "{'a': 97, 'b': 98, 'c': 99, 'd': 100, 'e': 101}"
      ]
     },
     "execution_count": 36,
     "metadata": {},
     "output_type": "execute_result"
    }
   ],
   "source": [
    "# Q. 새로운 key와 value ('e', 101)를 넣어보세요. \n",
    "dict_uni.setdefault('e', 101)\n",
    "dict_uni"
   ]
  },
  {
   "cell_type": "code",
   "execution_count": 37,
   "id": "0c50a4d3",
   "metadata": {},
   "outputs": [
    {
     "data": {
      "text/plain": [
       "{'a': 97, 'b': 98, 'c': 99, 'd': 100, 'e': 101}"
      ]
     },
     "execution_count": 37,
     "metadata": {},
     "output_type": "execute_result"
    }
   ],
   "source": [
    "dict_uni.setdefault('e')\n",
    "dict_uni\n"
   ]
  },
  {
   "cell_type": "code",
   "execution_count": 38,
   "id": "c11f1694",
   "metadata": {},
   "outputs": [
    {
     "ename": "ValueError",
     "evalue": "dictionary update sequence element #0 has length 1; 2 is required",
     "output_type": "error",
     "traceback": [
      "\u001b[0;31m---------------------------------------------------------------------------\u001b[0m",
      "\u001b[0;31mValueError\u001b[0m                                Traceback (most recent call last)",
      "\u001b[0;32m/tmp/ipykernel_38/3631860266.py\u001b[0m in \u001b[0;36m<module>\u001b[0;34m\u001b[0m\n\u001b[1;32m      1\u001b[0m \u001b[0;31m# update 함수로 key만 입력하면 오류발생\u001b[0m\u001b[0;34m\u001b[0m\u001b[0;34m\u001b[0m\u001b[0m\n\u001b[0;32m----> 2\u001b[0;31m \u001b[0mdict_uni\u001b[0m\u001b[0;34m.\u001b[0m\u001b[0mupdate\u001b[0m\u001b[0;34m(\u001b[0m\u001b[0;34m'f'\u001b[0m\u001b[0;34m)\u001b[0m\u001b[0;34m\u001b[0m\u001b[0;34m\u001b[0m\u001b[0m\n\u001b[0m\u001b[1;32m      3\u001b[0m \u001b[0mdict_uni\u001b[0m\u001b[0;34m\u001b[0m\u001b[0;34m\u001b[0m\u001b[0m\n",
      "\u001b[0;31mValueError\u001b[0m: dictionary update sequence element #0 has length 1; 2 is required"
     ]
    }
   ],
   "source": [
    "# update 함수로 key만 입력하면 오류발생 \n",
    "dict_uni.update('f')\n",
    "dict_uni"
   ]
  },
  {
   "cell_type": "code",
   "execution_count": 60,
   "id": "00ae02b8",
   "metadata": {},
   "outputs": [
    {
     "data": {
      "text/plain": [
       "{'a': 97, 'b': 98, 'c': 99, 'd': 100, 'f': 102}"
      ]
     },
     "execution_count": 60,
     "metadata": {},
     "output_type": "execute_result"
    }
   ],
   "source": [
    "# update()로 딕셔너리 update하기 \n",
    "dict_uni.update(f=102)\n",
    "dict_uni"
   ]
  },
  {
   "cell_type": "code",
   "execution_count": 40,
   "id": "2521aed8",
   "metadata": {},
   "outputs": [
    {
     "data": {
      "text/plain": [
       "{'a': 97, 'b': 98, 'c': 99, 'd': 100, 'e': 101, 'f': 102, 'g': 103}"
      ]
     },
     "execution_count": 40,
     "metadata": {},
     "output_type": "execute_result"
    }
   ],
   "source": [
    "# Q. update 함수로 새로운 key와 value (g, 103)를 추가해 보세요. \n",
    "dict_uni.update(g=103)\n",
    "dict_uni"
   ]
  },
  {
   "cell_type": "code",
   "execution_count": 41,
   "id": "b9589eec",
   "metadata": {},
   "outputs": [
    {
     "data": {
      "text/plain": [
       "[60, 28, 30, 34, 66, 11]"
      ]
     },
     "execution_count": 41,
     "metadata": {},
     "output_type": "execute_result"
    }
   ],
   "source": [
    "kims_age = [60, 28, 30, 34, 66, 11]  \n",
    "kims_age"
   ]
  },
  {
   "cell_type": "code",
   "execution_count": 42,
   "id": "9b3e2172",
   "metadata": {},
   "outputs": [
    {
     "data": {
      "text/plain": [
       "11"
      ]
     },
     "execution_count": 42,
     "metadata": {},
     "output_type": "execute_result"
    }
   ],
   "source": [
    "# pop() 함수는 마지막 요소를 출력하고 삭제합니다.\n",
    "kims_age.pop()"
   ]
  },
  {
   "cell_type": "code",
   "execution_count": 43,
   "id": "2a9c4479",
   "metadata": {},
   "outputs": [
    {
     "data": {
      "text/plain": [
       "[60, 28, 30, 34, 66]"
      ]
     },
     "execution_count": 43,
     "metadata": {},
     "output_type": "execute_result"
    }
   ],
   "source": [
    "#마지막 요소 삭제되었는지 확인 \n",
    "kims_age"
   ]
  },
  {
   "cell_type": "code",
   "execution_count": 45,
   "id": "64b28422",
   "metadata": {},
   "outputs": [
    {
     "data": {
      "text/plain": [
       "103"
      ]
     },
     "execution_count": 45,
     "metadata": {},
     "output_type": "execute_result"
    }
   ],
   "source": [
    "#딕셔너리 pop에서는 key 값을 넣어주어야 함\n",
    "dict_uni = {'a': 97, 'b': 98, 'c': 99, 'd': 100, 'e': 101, 'f': 102, 'g': 103}\n",
    "dict_uni.pop('g')"
   ]
  },
  {
   "cell_type": "code",
   "execution_count": 47,
   "id": "7f5ea1f9",
   "metadata": {},
   "outputs": [
    {
     "data": {
      "text/plain": [
       "'mango'"
      ]
     },
     "execution_count": 47,
     "metadata": {},
     "output_type": "execute_result"
    }
   ],
   "source": [
    "#list에서 pop\n",
    "fruits = ['apple', 'banana', 'mango']\n",
    "fruits.pop()"
   ]
  },
  {
   "cell_type": "code",
   "execution_count": 48,
   "id": "319eb5bb",
   "metadata": {},
   "outputs": [
    {
     "data": {
      "text/plain": [
       "['apple', 'banana']"
      ]
     },
     "execution_count": 48,
     "metadata": {},
     "output_type": "execute_result"
    }
   ],
   "source": [
    "fruits"
   ]
  },
  {
   "cell_type": "code",
   "execution_count": 49,
   "id": "0eeb9e32",
   "metadata": {},
   "outputs": [
    {
     "name": "stdout",
     "output_type": "stream",
     "text": [
      "55\n"
     ]
    }
   ],
   "source": [
    "# Q. pop() 함수만 사용해서 1부터 10까지의 합을 구해봅시다.\n",
    "\n",
    "nums = list(range(1, 11))  # [1, 2, ... , 10]\n",
    "result = 0  # 결과값 - 여기에 숫자를 계속 더해주세요!\n",
    "\n",
    "for i in range(10):\n",
    "    result += nums.pop()\n",
    "\n",
    "print(result)"
   ]
  },
  {
   "cell_type": "code",
   "execution_count": 50,
   "id": "c5f7c9f9",
   "metadata": {},
   "outputs": [
    {
     "data": {
      "text/plain": [
       "{60: None, 28: None, 30: None, 34: None, 66: None, 11: None}"
      ]
     },
     "execution_count": 50,
     "metadata": {},
     "output_type": "execute_result"
    }
   ],
   "source": [
    "#fromkeys()\n",
    "kims_age = [60, 28, 30, 34, 66, 11] \n",
    "kims_dict = dict.fromkeys(kims_age)\n",
    "kims_dict"
   ]
  },
  {
   "cell_type": "code",
   "execution_count": 51,
   "id": "acd2fe45",
   "metadata": {},
   "outputs": [
    {
     "data": {
      "text/plain": [
       "{60: 'kor', 28: 'kor', 30: 'kor', 34: 'kor', 66: 'kor', 11: 'kor'}"
      ]
     },
     "execution_count": 51,
     "metadata": {},
     "output_type": "execute_result"
    }
   ],
   "source": [
    "#value 만들어주기\n",
    "kims_age = [60, 28, 30, 34, 66, 11] \n",
    "kims_dict = dict.fromkeys(kims_age,'kor')\n",
    "kims_dict"
   ]
  },
  {
   "cell_type": "code",
   "execution_count": 52,
   "id": "62588f68",
   "metadata": {},
   "outputs": [
    {
     "data": {
      "text/plain": [
       "True"
      ]
     },
     "execution_count": 52,
     "metadata": {},
     "output_type": "execute_result"
    }
   ],
   "source": [
    "# key값만 확인 가능\n",
    "dict_uni = {'a': 97, 'b':98, 'c':99, 'd':100}\n",
    "'a' in dict_uni"
   ]
  },
  {
   "cell_type": "code",
   "execution_count": 53,
   "id": "0f2830fd",
   "metadata": {},
   "outputs": [
    {
     "data": {
      "text/plain": [
       "False"
      ]
     },
     "execution_count": 53,
     "metadata": {},
     "output_type": "execute_result"
    }
   ],
   "source": [
    "# value값은 확인 불가능\n",
    "100 in dict_uni"
   ]
  },
  {
   "cell_type": "code",
   "execution_count": 54,
   "id": "8b7db862",
   "metadata": {},
   "outputs": [
    {
     "data": {
      "text/plain": [
       "True"
      ]
     },
     "execution_count": 54,
     "metadata": {},
     "output_type": "execute_result"
    }
   ],
   "source": [
    "# value 값 확인하기\n",
    "100 in dict_uni.values()"
   ]
  },
  {
   "cell_type": "code",
   "execution_count": 55,
   "id": "e03e44d1",
   "metadata": {},
   "outputs": [
    {
     "name": "stdout",
     "output_type": "stream",
     "text": [
      "[0, 2, 4, 6, 8, 10]\n"
     ]
    }
   ],
   "source": [
    "# 반복문\n",
    "list_for = []\n",
    "for i in range(0,11,2):\n",
    "    list_for.append(i)\n",
    "print(list_for)"
   ]
  },
  {
   "cell_type": "code",
   "execution_count": 56,
   "id": "ecc5b798",
   "metadata": {},
   "outputs": [
    {
     "data": {
      "text/plain": [
       "[0, 2, 4, 6, 8, 10]"
      ]
     },
     "execution_count": 56,
     "metadata": {},
     "output_type": "execute_result"
    }
   ],
   "source": [
    "#위의 반복문을 리스트 컴프리헨션으로 표기\n",
    "[x for x in range(0,11,2)]"
   ]
  },
  {
   "cell_type": "code",
   "execution_count": 57,
   "id": "a63ef835",
   "metadata": {},
   "outputs": [
    {
     "data": {
      "text/plain": [
       "['00', '22', '44', '66', '88', '1010']"
      ]
     },
     "execution_count": 57,
     "metadata": {},
     "output_type": "execute_result"
    }
   ],
   "source": [
    "[str(x)*2 for x in range(0,11,2)]"
   ]
  },
  {
   "cell_type": "code",
   "execution_count": 58,
   "id": "6b599a99",
   "metadata": {},
   "outputs": [
    {
     "data": {
      "text/plain": [
       "[0, 1, 4, 9, 16, 25, 36, 49, 64]"
      ]
     },
     "execution_count": 58,
     "metadata": {},
     "output_type": "execute_result"
    }
   ],
   "source": [
    "# Q. 리스트 컴프리헨션을 사용하여 다음을 출력해보세요!\n",
    "# [0, 1, 4, 9, 16, ..., 81]\n",
    "[(x)**2 for x in range(0,9,1)]"
   ]
  },
  {
   "cell_type": "code",
   "execution_count": 61,
   "id": "ce8aec84",
   "metadata": {},
   "outputs": [
    {
     "name": "stdout",
     "output_type": "stream",
     "text": [
      "[0, 2, 4, 6, 8, 10]\n"
     ]
    }
   ],
   "source": [
    "# 반복문 + 조건문\n",
    "list_con = []\n",
    "for i in range(0,11):\n",
    "    if i % 2 == 0:\n",
    "        list_con.append(i)\n",
    "        \n",
    "print(list_con)"
   ]
  },
  {
   "cell_type": "code",
   "execution_count": 63,
   "id": "b9cfaab6",
   "metadata": {},
   "outputs": [
    {
     "data": {
      "text/plain": [
       "[2, 4, 6, 8, 10]"
      ]
     },
     "execution_count": 63,
     "metadata": {},
     "output_type": "execute_result"
    }
   ],
   "source": [
    "#리스트 컴프리헨션 with 조건문\n",
    "[x for x in range(1,11) if x % 2 == 0]"
   ]
  },
  {
   "cell_type": "code",
   "execution_count": 65,
   "id": "cee7c067",
   "metadata": {},
   "outputs": [
    {
     "data": {
      "text/plain": [
       "2500"
      ]
     },
     "execution_count": 65,
     "metadata": {},
     "output_type": "execute_result"
    }
   ],
   "source": [
    "# Q. 리스트 컴프리헨션을 사용하여 1 이상 100 이하 홀수들의 합을 계산해보세요!\n",
    "sum([x for x in range(1,100) if x % 2 ==1])"
   ]
  },
  {
   "cell_type": "code",
   "execution_count": 68,
   "id": "06b5390c",
   "metadata": {},
   "outputs": [
    {
     "data": {
      "text/plain": [
       "[['아이스크림', '감자칩'],\n",
       " ['아이스크림', '팝콘'],\n",
       " ['아이스크림', '뿌셔뿌셔'],\n",
       " ['크림빵', '감자칩'],\n",
       " ['크림빵', '팝콘'],\n",
       " ['크림빵', '뿌셔뿌셔'],\n",
       " ['젤리', '감자칩'],\n",
       " ['젤리', '팝콘'],\n",
       " ['젤리', '뿌셔뿌셔']]"
      ]
     },
     "execution_count": 68,
     "metadata": {},
     "output_type": "execute_result"
    }
   ],
   "source": [
    "#단짠단짠 조합\n",
    "sweetie = ['아이스크림', '크림빵', '젤리']\n",
    "savory = ['감자칩', '팝콘', '뿌셔뿌셔'] \n",
    "\n",
    "[[x,y] for x in sweetie for y in savory]"
   ]
  },
  {
   "cell_type": "code",
   "execution_count": 70,
   "id": "55486925",
   "metadata": {},
   "outputs": [
    {
     "data": {
      "text/plain": [
       "[['아이스크림', '감자칩'],\n",
       " ['아이스크림', '팝콘'],\n",
       " ['아이스크림', '뿌셔뿌셔'],\n",
       " ['크림빵', '감자칩'],\n",
       " ['크림빵', '팝콘'],\n",
       " ['크림빵', '뿌셔뿌셔'],\n",
       " ['젤리', '감자칩'],\n",
       " ['젤리', '팝콘'],\n",
       " ['젤리', '뿌셔뿌셔']]"
      ]
     },
     "execution_count": 70,
     "metadata": {},
     "output_type": "execute_result"
    }
   ],
   "source": [
    "#단짠단짠 조합 for문\n",
    "sweetie = ['아이스크림', '크림빵', '젤리']\n",
    "savory = ['감자칩', '팝콘', '뿌셔뿌셔'] \n",
    "\n",
    "sweet_savory = []\n",
    "for x in sweetie:\n",
    "    for y in savory:\n",
    "        sweet_savory.append([x,y])\n",
    "sweet_savory"
   ]
  },
  {
   "cell_type": "code",
   "execution_count": 71,
   "id": "1b309cea",
   "metadata": {},
   "outputs": [
    {
     "data": {
      "text/plain": [
       "[6, 12, 18, 24]"
      ]
     },
     "execution_count": 71,
     "metadata": {},
     "output_type": "execute_result"
    }
   ],
   "source": [
    "#2와 3의 공배수\n",
    "[x for x in range(1,30) if x%2==0 if x%3==0]"
   ]
  },
  {
   "cell_type": "code",
   "execution_count": 72,
   "id": "3d59df7a",
   "metadata": {},
   "outputs": [
    {
     "data": {
      "text/plain": [
       "[[1, 11],\n",
       " [2, 22],\n",
       " [3, 33],\n",
       " [4, 44],\n",
       " [5, 55],\n",
       " [6, 66],\n",
       " [7, 77],\n",
       " [8, 88],\n",
       " [9, 99]]"
      ]
     },
     "execution_count": 72,
     "metadata": {},
     "output_type": "execute_result"
    }
   ],
   "source": [
    "# Q. 리스트 컴프리헨션을 사용하여 다음을 출력해보세요!\n",
    "# [[1, 11], [2, 22], [3, 33], ..., [9, 99]]\n",
    "\n",
    "first_number = [1,2,3,4,5,6,7,8,9]\n",
    "\n",
    "[[x,x*11] for x in first_number]"
   ]
  },
  {
   "cell_type": "code",
   "execution_count": 73,
   "id": "b51e3963",
   "metadata": {},
   "outputs": [
    {
     "data": {
      "text/plain": [
       "{0, 2, 4, 6, 8, 10}"
      ]
     },
     "execution_count": 73,
     "metadata": {},
     "output_type": "execute_result"
    }
   ],
   "source": [
    "# 셋 컴프리헨션\n",
    "{x for x in range(0,11,2)}"
   ]
  },
  {
   "cell_type": "code",
   "execution_count": 74,
   "id": "615e8c65",
   "metadata": {},
   "outputs": [
    {
     "data": {
      "text/plain": [
       "set"
      ]
     },
     "execution_count": 74,
     "metadata": {},
     "output_type": "execute_result"
    }
   ],
   "source": [
    "# 셋 컴프리헨션\n",
    "type({x for x in range(0,11,2)})"
   ]
  },
  {
   "cell_type": "code",
   "execution_count": 78,
   "id": "d9d23f6d",
   "metadata": {},
   "outputs": [
    {
     "data": {
      "text/plain": [
       "{3: 'minjae', 9: 'Osimhen'}"
      ]
     },
     "execution_count": 78,
     "metadata": {},
     "output_type": "execute_result"
    }
   ],
   "source": [
    "#딕셔너리 컴프리헨션\n",
    "napoli_num = [3, 77, 9, 99]\n",
    "napoli_player = ['minjae', '크바라츠헬리아', 'Osimhen', 'Anguissa'] \n",
    "{x:y for x, y in zip(napoli_num,napoli_player )if x<50}"
   ]
  },
  {
   "cell_type": "code",
   "execution_count": null,
   "id": "3109fb9e",
   "metadata": {},
   "outputs": [],
   "source": []
  }
 ],
 "metadata": {
  "kernelspec": {
   "display_name": "Python 3 (ipykernel)",
   "language": "python",
   "name": "python3"
  },
  "language_info": {
   "codemirror_mode": {
    "name": "ipython",
    "version": 3
   },
   "file_extension": ".py",
   "mimetype": "text/x-python",
   "name": "python",
   "nbconvert_exporter": "python",
   "pygments_lexer": "ipython3",
   "version": "3.9.7"
  }
 },
 "nbformat": 4,
 "nbformat_minor": 5
}

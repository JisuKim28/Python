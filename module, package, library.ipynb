{
 "cells": [
  {
   "cell_type": "code",
   "execution_count": 1,
   "id": "0bd54e75",
   "metadata": {},
   "outputs": [
    {
     "data": {
      "text/plain": [
       "<module 'random' from '/opt/conda/lib/python3.9/random.py'>"
      ]
     },
     "execution_count": 1,
     "metadata": {},
     "output_type": "execute_result"
    }
   ],
   "source": [
    "import random\n",
    "random"
   ]
  },
  {
   "cell_type": "code",
   "execution_count": 2,
   "id": "0185388d",
   "metadata": {},
   "outputs": [
    {
     "data": {
      "text/plain": [
       "<module 'random' from '/opt/conda/lib/python3.9/random.py'>"
      ]
     },
     "execution_count": 2,
     "metadata": {},
     "output_type": "execute_result"
    }
   ],
   "source": [
    "import random as r\n",
    "r"
   ]
  },
  {
   "cell_type": "code",
   "execution_count": 3,
   "id": "9e61b225",
   "metadata": {},
   "outputs": [
    {
     "data": {
      "text/plain": [
       "0.25041221518393075"
      ]
     },
     "execution_count": 3,
     "metadata": {},
     "output_type": "execute_result"
    }
   ],
   "source": [
    "r. random()"
   ]
  },
  {
   "cell_type": "code",
   "execution_count": 4,
   "id": "34f090aa",
   "metadata": {},
   "outputs": [
    {
     "data": {
      "text/plain": [
       "0.324726917925675"
      ]
     },
     "execution_count": 4,
     "metadata": {},
     "output_type": "execute_result"
    }
   ],
   "source": [
    "for i in range(5):\n",
    "    r.random()\n",
    "r.random()"
   ]
  },
  {
   "cell_type": "code",
   "execution_count": 5,
   "id": "37ebe7ba",
   "metadata": {},
   "outputs": [
    {
     "data": {
      "text/plain": [
       "6"
      ]
     },
     "execution_count": 5,
     "metadata": {},
     "output_type": "execute_result"
    }
   ],
   "source": [
    "#1과 10 사이의 정수 출력\n",
    "r.randint(1,10)"
   ]
  },
  {
   "cell_type": "code",
   "execution_count": 6,
   "id": "764e0717",
   "metadata": {},
   "outputs": [
    {
     "name": "stdout",
     "output_type": "stream",
     "text": [
      "1\n",
      "5\n",
      "7\n",
      "9\n",
      "10\n"
     ]
    }
   ],
   "source": [
    "for i in range(5):\n",
    "    print(r.randint(1,10))\n"
   ]
  },
  {
   "cell_type": "code",
   "execution_count": 9,
   "id": "a2b061b5",
   "metadata": {},
   "outputs": [],
   "source": [
    "import math as m"
   ]
  },
  {
   "cell_type": "code",
   "execution_count": 10,
   "id": "d9827b31",
   "metadata": {},
   "outputs": [
    {
     "data": {
      "text/plain": [
       "3.141592653589793"
      ]
     },
     "execution_count": 10,
     "metadata": {},
     "output_type": "execute_result"
    }
   ],
   "source": [
    "#원주율\n",
    "m.pi"
   ]
  },
  {
   "cell_type": "code",
   "execution_count": 11,
   "id": "af7a81fe",
   "metadata": {},
   "outputs": [
    {
     "data": {
      "text/plain": [
       "2.718281828459045"
      ]
     },
     "execution_count": 11,
     "metadata": {},
     "output_type": "execute_result"
    }
   ],
   "source": [
    "#자연 상수\n",
    "m.e"
   ]
  },
  {
   "cell_type": "code",
   "execution_count": 12,
   "id": "7656dfc8",
   "metadata": {},
   "outputs": [
    {
     "data": {
      "text/plain": [
       "8.0"
      ]
     },
     "execution_count": 12,
     "metadata": {},
     "output_type": "execute_result"
    }
   ],
   "source": [
    "#거듭제곱\n",
    "m.pow(2,3)"
   ]
  },
  {
   "cell_type": "code",
   "execution_count": 13,
   "id": "4e98fd78",
   "metadata": {},
   "outputs": [
    {
     "data": {
      "text/plain": [
       "7.0"
      ]
     },
     "execution_count": 13,
     "metadata": {},
     "output_type": "execute_result"
    }
   ],
   "source": [
    "#제곱근\n",
    "m.sqrt(49)"
   ]
  },
  {
   "cell_type": "code",
   "execution_count": 14,
   "id": "ba952cf5",
   "metadata": {},
   "outputs": [
    {
     "data": {
      "text/plain": [
       "24"
      ]
     },
     "execution_count": 14,
     "metadata": {},
     "output_type": "execute_result"
    }
   ],
   "source": [
    "#팩토리얼 (계승)\n",
    "m.factorial(4)"
   ]
  },
  {
   "cell_type": "code",
   "execution_count": 15,
   "id": "880e95bc",
   "metadata": {},
   "outputs": [
    {
     "data": {
      "text/plain": [
       "8"
      ]
     },
     "execution_count": 15,
     "metadata": {},
     "output_type": "execute_result"
    }
   ],
   "source": [
    "# 올림 -> 수직선에서 오른쪽으로, int형 출력\n",
    "# 양수\n",
    "m.ceil(7.3)"
   ]
  },
  {
   "cell_type": "code",
   "execution_count": 16,
   "id": "1e27784e",
   "metadata": {},
   "outputs": [
    {
     "data": {
      "text/plain": [
       "-7"
      ]
     },
     "execution_count": 16,
     "metadata": {},
     "output_type": "execute_result"
    }
   ],
   "source": [
    "# 올림\n",
    "# 음수\n",
    "m.ceil(-7.3)"
   ]
  },
  {
   "cell_type": "code",
   "execution_count": 17,
   "id": "f6dcea64",
   "metadata": {},
   "outputs": [
    {
     "data": {
      "text/plain": [
       "7"
      ]
     },
     "execution_count": 17,
     "metadata": {},
     "output_type": "execute_result"
    }
   ],
   "source": [
    "# 버림->수직선에서 왼쪽으로, int형 출력\n",
    "# 양수\n",
    "m.floor(7.8)"
   ]
  },
  {
   "cell_type": "code",
   "execution_count": 18,
   "id": "c156f792",
   "metadata": {},
   "outputs": [
    {
     "data": {
      "text/plain": [
       "-8"
      ]
     },
     "execution_count": 18,
     "metadata": {},
     "output_type": "execute_result"
    }
   ],
   "source": [
    "m.floor(-7.8)"
   ]
  },
  {
   "cell_type": "code",
   "execution_count": 19,
   "id": "2fa8404d",
   "metadata": {},
   "outputs": [
    {
     "data": {
      "text/plain": [
       "7"
      ]
     },
     "execution_count": 19,
     "metadata": {},
     "output_type": "execute_result"
    }
   ],
   "source": [
    "round(7.3)"
   ]
  },
  {
   "cell_type": "code",
   "execution_count": 21,
   "id": "75fba276",
   "metadata": {},
   "outputs": [],
   "source": [
    "import time"
   ]
  },
  {
   "cell_type": "code",
   "execution_count": 22,
   "id": "2ee362bf",
   "metadata": {},
   "outputs": [
    {
     "name": "stdout",
     "output_type": "stream",
     "text": [
      "5초를 세어보세요\n",
      "5초가 지났습니다\n"
     ]
    }
   ],
   "source": [
    "print('5초를 세어보세요')\n",
    "time.sleep(5)\n",
    "print('5초가 지났습니다')"
   ]
  },
  {
   "cell_type": "code",
   "execution_count": 23,
   "id": "49c20371",
   "metadata": {},
   "outputs": [
    {
     "data": {
      "text/plain": [
       "time.struct_time(tm_year=2025, tm_mon=5, tm_mday=30, tm_hour=5, tm_min=38, tm_sec=4, tm_wday=4, tm_yday=150, tm_isdst=0)"
      ]
     },
     "execution_count": 23,
     "metadata": {},
     "output_type": "execute_result"
    }
   ],
   "source": [
    "time.localtime()"
   ]
  },
  {
   "cell_type": "code",
   "execution_count": 24,
   "id": "ad8d72e7",
   "metadata": {},
   "outputs": [
    {
     "data": {
      "text/plain": [
       "(2025, 5, 30)"
      ]
     },
     "execution_count": 24,
     "metadata": {},
     "output_type": "execute_result"
    }
   ],
   "source": [
    "time.localtime()[:3]"
   ]
  },
  {
   "cell_type": "code",
   "execution_count": 25,
   "id": "b92bb4b7",
   "metadata": {},
   "outputs": [
    {
     "data": {
      "text/plain": [
       "(5, 39, 10)"
      ]
     },
     "execution_count": 25,
     "metadata": {},
     "output_type": "execute_result"
    }
   ],
   "source": [
    "# Q. 시간, 분, 초 정보만 슬라이싱해 봅시다. \n",
    "# 참고: localtime 함수는 원래 현재 시간을 출력해주지만,\n",
    "# 클라우드 서버의 시스템 시간은 실제 시간과 다를 수 있습니다.\n",
    "\n",
    "time.localtime()[3:6]"
   ]
  },
  {
   "cell_type": "code",
   "execution_count": 26,
   "id": "b5a994d8",
   "metadata": {},
   "outputs": [],
   "source": [
    "import keyword as k"
   ]
  },
  {
   "cell_type": "code",
   "execution_count": 27,
   "id": "32b9429a",
   "metadata": {},
   "outputs": [
    {
     "data": {
      "text/plain": [
       "['False',\n",
       " 'None',\n",
       " 'True',\n",
       " '__peg_parser__',\n",
       " 'and',\n",
       " 'as',\n",
       " 'assert',\n",
       " 'async',\n",
       " 'await',\n",
       " 'break',\n",
       " 'class',\n",
       " 'continue',\n",
       " 'def',\n",
       " 'del',\n",
       " 'elif',\n",
       " 'else',\n",
       " 'except',\n",
       " 'finally',\n",
       " 'for',\n",
       " 'from',\n",
       " 'global',\n",
       " 'if',\n",
       " 'import',\n",
       " 'in',\n",
       " 'is',\n",
       " 'lambda',\n",
       " 'nonlocal',\n",
       " 'not',\n",
       " 'or',\n",
       " 'pass',\n",
       " 'raise',\n",
       " 'return',\n",
       " 'try',\n",
       " 'while',\n",
       " 'with',\n",
       " 'yield']"
      ]
     },
     "execution_count": 27,
     "metadata": {},
     "output_type": "execute_result"
    }
   ],
   "source": [
    "k.kwlist"
   ]
  },
  {
   "cell_type": "code",
   "execution_count": 29,
   "id": "2c7e7987",
   "metadata": {},
   "outputs": [
    {
     "data": {
      "text/plain": [
       "True"
      ]
     },
     "execution_count": 29,
     "metadata": {},
     "output_type": "execute_result"
    }
   ],
   "source": [
    "k.iskeyword('if')"
   ]
  },
  {
   "cell_type": "code",
   "execution_count": 30,
   "id": "05d8100c",
   "metadata": {},
   "outputs": [
    {
     "data": {
      "text/plain": [
       "3.141592653589793"
      ]
     },
     "execution_count": 30,
     "metadata": {},
     "output_type": "execute_result"
    }
   ],
   "source": [
    "from math import pi\n",
    "pi"
   ]
  },
  {
   "cell_type": "code",
   "execution_count": 31,
   "id": "923403bd",
   "metadata": {},
   "outputs": [
    {
     "data": {
      "text/plain": [
       "3.141592653589793"
      ]
     },
     "execution_count": 31,
     "metadata": {},
     "output_type": "execute_result"
    }
   ],
   "source": [
    "from math import pi\n",
    "pi"
   ]
  },
  {
   "cell_type": "code",
   "execution_count": 32,
   "id": "7f091483",
   "metadata": {},
   "outputs": [
    {
     "data": {
      "text/plain": [
       "32.0"
      ]
     },
     "execution_count": 32,
     "metadata": {},
     "output_type": "execute_result"
    }
   ],
   "source": [
    "# Q. from import를 사용하여 pow 함수를 가져와 보세요. \n",
    "from math import pow\n",
    "pow(2, 5)"
   ]
  },
  {
   "cell_type": "code",
   "execution_count": 33,
   "id": "9527c201",
   "metadata": {},
   "outputs": [
    {
     "data": {
      "text/plain": [
       "(3.141592653589793, 2.718281828459045, 64.0)"
      ]
     },
     "execution_count": 33,
     "metadata": {},
     "output_type": "execute_result"
    }
   ],
   "source": [
    "# 여러 개의 변수, 함수를 가져올 때 \n",
    "from math import e, pi, pow\n",
    "pi, e, pow(2, 6)"
   ]
  },
  {
   "cell_type": "code",
   "execution_count": 34,
   "id": "659a3a0d",
   "metadata": {},
   "outputs": [
    {
     "data": {
      "text/plain": [
       "7"
      ]
     },
     "execution_count": 34,
     "metadata": {},
     "output_type": "execute_result"
    }
   ],
   "source": [
    "# 모듈 전체를 가져올 때\n",
    "from math import * \n",
    "ceil(6.3)"
   ]
  },
  {
   "cell_type": "code",
   "execution_count": 35,
   "id": "2d3dbd14",
   "metadata": {},
   "outputs": [
    {
     "data": {
      "text/plain": [
       "7"
      ]
     },
     "execution_count": 35,
     "metadata": {},
     "output_type": "execute_result"
    }
   ],
   "source": [
    "# 모듈만 import\n",
    "import math\n",
    "math.ceil(6.3)"
   ]
  },
  {
   "cell_type": "code",
   "execution_count": 36,
   "id": "0bc10c0f",
   "metadata": {},
   "outputs": [
    {
     "data": {
      "text/plain": [
       "(9.0, 9.0)"
      ]
     },
     "execution_count": 36,
     "metadata": {},
     "output_type": "execute_result"
    }
   ],
   "source": [
    "# Q. math 모듈의 sqrt 함수를 's'라는 이름으로, pow 함수를 'p'라는 이름으로 import해 보세요. \n",
    "from math import sqrt as s, pow as p\n",
    "s(81), p(3, 2)"
   ]
  },
  {
   "cell_type": "code",
   "execution_count": 37,
   "id": "2714501c",
   "metadata": {},
   "outputs": [
    {
     "name": "stdout",
     "output_type": "stream",
     "text": [
      "join():/A/B/C/file.py\n"
     ]
    }
   ],
   "source": [
    "import os.path\n",
    "new_path = os.path.join(\"/A/B/C\", \"file.py\")\n",
    "print(\"join():\" + new_path)"
   ]
  },
  {
   "cell_type": "code",
   "execution_count": null,
   "id": "7ab016ad",
   "metadata": {},
   "outputs": [],
   "source": [
    "# calc.py 만들기 \n",
    "# 제곱\n",
    "def power(a, b):\n",
    "    return a ** b\n",
    "\n",
    "# 세제곱\n",
    "def cubic(a):\n",
    "    return a ** 3\n",
    "\n",
    "# 나누기\n",
    "def divide(a, b):\n",
    "    if b == 0:\n",
    "        raise ValueError(\"값에 0이 있어서 나눌 수 없습니다.\")\n",
    "    return f\"몫:{a // b}, 나머지:{a % b}, 소수점:{a / b}\" # 소수점까지, 몫, 나머지\n",
    "\n",
    "# 1부터 n까지의 정수를 곱하는 팩토리얼 만들기\n",
    "def factorial(n):\n",
    "    if n == 0:\n",
    "        return 1\n",
    "    else:\n",
    "        return n * factorial(n-1)"
   ]
  }
 ],
 "metadata": {
  "kernelspec": {
   "display_name": "Python 3 (ipykernel)",
   "language": "python",
   "name": "python3"
  },
  "language_info": {
   "codemirror_mode": {
    "name": "ipython",
    "version": 3
   },
   "file_extension": ".py",
   "mimetype": "text/x-python",
   "name": "python",
   "nbconvert_exporter": "python",
   "pygments_lexer": "ipython3",
   "version": "3.9.7"
  }
 },
 "nbformat": 4,
 "nbformat_minor": 5
}

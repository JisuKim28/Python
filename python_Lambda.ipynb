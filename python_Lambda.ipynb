{
 "cells": [
  {
   "cell_type": "code",
   "execution_count": 1,
   "id": "0f168690",
   "metadata": {},
   "outputs": [
    {
     "data": {
      "text/plain": [
       "7"
      ]
     },
     "execution_count": 1,
     "metadata": {},
     "output_type": "execute_result"
    }
   ],
   "source": [
    "# 일반 함수\n",
    "def add_two(x):\n",
    "    return x+2\n",
    "add_two(5)"
   ]
  },
  {
   "cell_type": "code",
   "execution_count": 2,
   "id": "974b7426",
   "metadata": {},
   "outputs": [
    {
     "data": {
      "text/plain": [
       "7"
      ]
     },
     "execution_count": 2,
     "metadata": {},
     "output_type": "execute_result"
    }
   ],
   "source": [
    "# 람다 함수\n",
    "(lambda x : x + 2)(5)"
   ]
  },
  {
   "cell_type": "code",
   "execution_count": 3,
   "id": "fc470489",
   "metadata": {},
   "outputs": [
    {
     "data": {
      "text/plain": [
       "5"
      ]
     },
     "execution_count": 3,
     "metadata": {},
     "output_type": "execute_result"
    }
   ],
   "source": [
    "# 변수에 할당된 람다 함수\n",
    "add = lambda x : x + 2\n",
    "add(3)"
   ]
  },
  {
   "cell_type": "code",
   "execution_count": 4,
   "id": "33224774",
   "metadata": {},
   "outputs": [
    {
     "ename": "SyntaxError",
     "evalue": "invalid syntax (3713770217.py, line 2)",
     "output_type": "error",
     "traceback": [
      "\u001b[0;36m  File \u001b[0;32m\"/tmp/ipykernel_37/3713770217.py\"\u001b[0;36m, line \u001b[0;32m2\u001b[0m\n\u001b[0;31m    (lambda x : y = 10; x + y)(1)\u001b[0m\n\u001b[0m                  ^\u001b[0m\n\u001b[0;31mSyntaxError\u001b[0m\u001b[0;31m:\u001b[0m invalid syntax\n"
     ]
    }
   ],
   "source": [
    "# 람다 표현식 안에서 새 변수를 만드는 것은 불가능\n",
    "(lambda x : y = 10; x + y)(1)"
   ]
  },
  {
   "cell_type": "code",
   "execution_count": 5,
   "id": "1aca2c46",
   "metadata": {},
   "outputs": [
    {
     "data": {
      "text/plain": [
       "'이탈리아나폴리'"
      ]
     },
     "execution_count": 5,
     "metadata": {},
     "output_type": "execute_result"
    }
   ],
   "source": [
    "# 람다 외부 변수 사용은 가능\n",
    "y = '나폴리'\n",
    "(lambda x : x + y)('이탈리아')"
   ]
  },
  {
   "cell_type": "code",
   "execution_count": 8,
   "id": "eeb19669",
   "metadata": {},
   "outputs": [
    {
     "data": {
      "text/plain": [
       "[0, 2, 4, 6, 8, 10, 12, 14, 16, 18]"
      ]
     },
     "execution_count": 8,
     "metadata": {},
     "output_type": "execute_result"
    }
   ],
   "source": [
    "# 일반 함수\n",
    "def second(x):\n",
    "    results = x * 2\n",
    "    return results\n",
    "\n",
    "# 리스트\n",
    "two = [i for i in range (10)]\n",
    "\n",
    "# map() + 일반함수\n",
    "list(map(second, two))"
   ]
  },
  {
   "cell_type": "code",
   "execution_count": 9,
   "id": "b411158c",
   "metadata": {},
   "outputs": [
    {
     "data": {
      "text/plain": [
       "[0, 2, 4, 6, 8, 10, 12, 14, 16, 18]"
      ]
     },
     "execution_count": 9,
     "metadata": {},
     "output_type": "execute_result"
    }
   ],
   "source": [
    "# map + 람다 함수\n",
    "# 리스트\n",
    "two = [i for i in range(10)]\n",
    "\n",
    "# map() + 람다 함수\n",
    "map(lambda x : x * 2, two)\n",
    "\n",
    "# 파이썬 3에서 map을 list로 리턴하기\n",
    "list(map(lambda x : x * 2, two))"
   ]
  },
  {
   "cell_type": "code",
   "execution_count": 10,
   "id": "144cb48b",
   "metadata": {},
   "outputs": [
    {
     "data": {
      "text/plain": [
       "[1, 4, 9, 16, 25, 36, 49, 64, 81]"
      ]
     },
     "execution_count": 10,
     "metadata": {},
     "output_type": "execute_result"
    }
   ],
   "source": [
    "# Q. 다음 리스트를 출력하는 코드를 람다 표현식과 리스트 컴프리헨션을 이용해 구현해보세요!\n",
    "# [1, 4, 9, 16, ..., 81, 100]\n",
    "\n",
    "num = [i for i in range(1,10)]\n",
    "map (lambda x : x ** 2, num)\n",
    "list(map(lambda x : x **2, num))"
   ]
  },
  {
   "cell_type": "code",
   "execution_count": 13,
   "id": "6c8d72fb",
   "metadata": {},
   "outputs": [
    {
     "data": {
      "text/plain": [
       "[1, 3, 5, 7, 9]"
      ]
     },
     "execution_count": 13,
     "metadata": {},
     "output_type": "execute_result"
    }
   ],
   "source": [
    "# 일반 함수\n",
    "\n",
    "def odd(x):\n",
    "    if x % 2 == 1:\n",
    "        return x\n",
    "\n",
    "# 리스트\n",
    "two = [i for i in range(10)]\n",
    "\n",
    "#list(filter()+일반함수)\n",
    "list(filter(odd,two))"
   ]
  },
  {
   "cell_type": "code",
   "execution_count": 17,
   "id": "5da8ab6c",
   "metadata": {},
   "outputs": [
    {
     "data": {
      "text/plain": [
       "[1, 3, 5, 7, 9]"
      ]
     },
     "execution_count": 17,
     "metadata": {},
     "output_type": "execute_result"
    }
   ],
   "source": [
    "# filter() + 람다함수\n",
    "list(filter(lambda x : x % 2 ==1, two))"
   ]
  },
  {
   "cell_type": "code",
   "execution_count": 18,
   "id": "50767799",
   "metadata": {},
   "outputs": [
    {
     "data": {
      "text/plain": [
       "[1, 3, 5, 7, 9]"
      ]
     },
     "execution_count": 18,
     "metadata": {},
     "output_type": "execute_result"
    }
   ],
   "source": [
    "# 파이썬은 조건이 없으면 True일 때만 통과\n",
    "list(filter(lambda x : x % 2, two))"
   ]
  },
  {
   "cell_type": "code",
   "execution_count": 19,
   "id": "1504639a",
   "metadata": {},
   "outputs": [
    {
     "data": {
      "text/plain": [
       "[4, 5, 6]"
      ]
     },
     "execution_count": 19,
     "metadata": {},
     "output_type": "execute_result"
    }
   ],
   "source": [
    "# Q. 다음 리스트를 출력하는 코드를 filter() 함수와 람다 표현식을 이용해 구현해보세요!\n",
    "# [4, 5, 6]\n",
    "\n",
    "quiz_list = [i for i in range(10)]\n",
    "list(filter(lambda x : 3 < x < 7, quiz_list ))"
   ]
  },
  {
   "cell_type": "code",
   "execution_count": 21,
   "id": "9a954c39",
   "metadata": {},
   "outputs": [
    {
     "data": {
      "text/plain": [
       "120"
      ]
     },
     "execution_count": 21,
     "metadata": {},
     "output_type": "execute_result"
    }
   ],
   "source": [
    "# 모듈 import\n",
    "from functools import reduce\n",
    "\n",
    "# 일반 함수\n",
    "def f (x,y):\n",
    "    return x * y\n",
    "    \n",
    "# 리스트\n",
    "a = [1,2,3,4,5]\n",
    "\n",
    "# reduce (일반 함수, 이터러블 객체)\n",
    "reduce(f, a)"
   ]
  },
  {
   "cell_type": "code",
   "execution_count": 22,
   "id": "2114b424",
   "metadata": {},
   "outputs": [
    {
     "data": {
      "text/plain": [
       "120"
      ]
     },
     "execution_count": 22,
     "metadata": {},
     "output_type": "execute_result"
    }
   ],
   "source": [
    "# 리스트\n",
    "a = [1,2,3,4,5]\n",
    "\n",
    "#reduce(람다 함수, 이터러블 객체)\n",
    "reduce(lambda x,y : x * y, a)"
   ]
  },
  {
   "cell_type": "code",
   "execution_count": 23,
   "id": "0c472bb9",
   "metadata": {},
   "outputs": [
    {
     "data": {
      "text/plain": [
       "362880"
      ]
     },
     "execution_count": 23,
     "metadata": {},
     "output_type": "execute_result"
    }
   ],
   "source": [
    "# Q. 리스트 컴프리헨션과 람다 표현식을 이용해 1부터 100까지의 합을 구하는 코드를 구현해보세요!\n",
    "\n",
    "# 리스트 \n",
    "a = [ i for i in range(1,10)]\n",
    "reduce(lambda x, y : x * y, a)"
   ]
  },
  {
   "cell_type": "code",
   "execution_count": 24,
   "id": "82b36617",
   "metadata": {},
   "outputs": [
    {
     "data": {
      "text/plain": [
       "[0.0,\n",
       " 0.6931471805599453,\n",
       " 1.0986122886681098,\n",
       " 1.3862943611198906,\n",
       " 1.6094379124341003,\n",
       " 1.791759469228055,\n",
       " 1.9459101490553132,\n",
       " 2.0794415416798357,\n",
       " 2.1972245773362196,\n",
       " 2.302585092994046]"
      ]
     },
     "execution_count": 24,
     "metadata": {},
     "output_type": "execute_result"
    }
   ],
   "source": [
    "# 실습퀴즈 1. map 함수\n",
    "# 변수 numbers 안에 있는 값들을 모두 로그 변환해 보세요.\n",
    "\n",
    "import math \n",
    "numbers = list(range(1, 11))\n",
    "log_transformed_numbers = list(map(lambda x : math.log(x), numbers))\n",
    "log_transformed_numbers"
   ]
  },
  {
   "cell_type": "code",
   "execution_count": null,
   "id": "d7f18b77",
   "metadata": {},
   "outputs": [],
   "source": [
    "# 실습퀴즈2. 람다 표현식\n",
    "# 100 이하의 자연수 중에서 3의 배수가 아닌 숫자만 리스트에 담으세요. \n",
    "\n",
    "numbers = list(range(1, 101))\n",
    "filtered_numbers = list(filter(lambda x : x % 3 == 1, numbers))\n",
    "filtered_numbers"
   ]
  }
 ],
 "metadata": {
  "kernelspec": {
   "display_name": "Python 3 (ipykernel)",
   "language": "python",
   "name": "python3"
  },
  "language_info": {
   "codemirror_mode": {
    "name": "ipython",
    "version": 3
   },
   "file_extension": ".py",
   "mimetype": "text/x-python",
   "name": "python",
   "nbconvert_exporter": "python",
   "pygments_lexer": "ipython3",
   "version": "3.9.7"
  }
 },
 "nbformat": 4,
 "nbformat_minor": 5
}
